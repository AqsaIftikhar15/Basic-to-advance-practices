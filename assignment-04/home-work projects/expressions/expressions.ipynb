{
  "nbformat": 4,
  "nbformat_minor": 0,
  "metadata": {
    "colab": {
      "provenance": []
    },
    "kernelspec": {
      "name": "python3",
      "display_name": "Python 3"
    },
    "language_info": {
      "name": "python"
    }
  },
  "cells": [
    {
      "cell_type": "code",
      "execution_count": 6,
      "metadata": {
        "colab": {
          "base_uri": "https://localhost:8080/"
        },
        "id": "LbCsUZx2wESl",
        "outputId": "49634c90-dd40-4c0f-8b94-9b5f41c53964"
      },
      "outputs": [
        {
          "output_type": "stream",
          "name": "stdout",
          "text": [
            "die1 in main() is: 56\n",
            "Total of two dice: 10\n"
          ]
        }
      ],
      "source": [
        "import random\n",
        "NUM_SIDES = 6\n",
        "\n",
        "def roll_dice():\n",
        "    die1: int = random.randint(1, NUM_SIDES)\n",
        "    die2: int = random.randint(1, NUM_SIDES)\n",
        "    total: int = die1 + die2\n",
        "    print(\"Total of two dice:\", total)\n",
        "\n",
        "def main():\n",
        "    die1: int = 56\n",
        "    roll_dice()\n",
        "    roll_dice()\n",
        "    roll_dice()\n",
        "    print(\"die1 in main() is: \" + str(die1))\n",
        "\n",
        "if __name__ == '__main__':\n",
        "    main()"
      ]
    },
    {
      "cell_type": "code",
      "source": [
        "from IPython.display import display,Markdown\n",
        "\n",
        "C = 299792458\n",
        "\n",
        "def main():\n",
        "   m = float(input(\"Enter mass in kilograms:\\n\"))\n",
        "   e  = m*(C**2)\n",
        "   print(f\"E = m *C**2\")\n",
        "   print(f\"Where:\")\n",
        "   print(f\"m(mass) = {m} kgs\")\n",
        "   print(f\"C(speed of light) = {C:,} m/s\")\n",
        "\n",
        "   print(f\"There are {e:.2e} joules of energy for the mass of{m} kgs\")\n",
        "\n",
        "if __name__ == '__main__':\n",
        "    main()"
      ],
      "metadata": {
        "id": "mB4b5AJ5_fIW",
        "outputId": "9f275ab3-b8c9-40cf-c2a8-1b574118bfa8",
        "colab": {
          "base_uri": "https://localhost:8080/",
          "height": 173
        }
      },
      "execution_count": 11,
      "outputs": [
        {
          "name": "stdout",
          "output_type": "stream",
          "text": [
            "Enter mass in kilograms:\n",
            "21\n"
          ]
        },
        {
          "output_type": "display_data",
          "data": {
            "text/plain": [
              "<IPython.core.display.Markdown object>"
            ],
            "text/markdown": "**_*21.0*_**"
          },
          "metadata": {}
        },
        {
          "output_type": "stream",
          "name": "stdout",
          "text": [
            "E = m *C**2\n",
            "Where:\n",
            "m(mass) = 21.0 kgs\n",
            "C(speed of light) = 299,792,458 m/s\n",
            "There are 1.89e+18 joules of energy for the mass of21.0 kgs\n"
          ]
        }
      ]
    },
    {
      "cell_type": "code",
      "source": [
        "x: int = 12\n",
        "\n",
        "def main():\n",
        "    ft: float = float(input(\"Enter number of feet: \"))\n",
        "    inch: float = ft * x\n",
        "    print(\"That is\", inch, \"inches!\")\n",
        "if __name__ == '__main__':\n",
        "    main()"
      ],
      "metadata": {
        "id": "tBvPNWYzwqMF"
      },
      "execution_count": null,
      "outputs": []
    },
    {
      "cell_type": "code",
      "source": [
        "import math\n",
        "\n",
        "def main():\n",
        "  ab = float(input(\"Enter the length of side A: \"))\n",
        "  bc = float(input(\"Enter the length of side B:\"))\n",
        "  ac = math.sqrt(ab**2 + bc**2)\n",
        "  print(f\"The length of the hypotenuse is {ac:.2f}\")\n",
        "if __name__ == '__main__':\n",
        "    main()"
      ],
      "metadata": {
        "id": "0Ecu5_T2yxlJ",
        "outputId": "01e23228-4227-4ff7-fd88-9c80fd2137db",
        "colab": {
          "base_uri": "https://localhost:8080/"
        }
      },
      "execution_count": 19,
      "outputs": [
        {
          "output_type": "stream",
          "name": "stdout",
          "text": [
            "Enter the length of side A: 432\n",
            "Enter the length of side B:322\n",
            "The length of the hypotenuse is 538.80\n"
          ]
        }
      ]
    },
    {
      "cell_type": "code",
      "source": [
        "def main():\n",
        "  x = int(input(\"Enter the number you want to be divided: \\n\"))\n",
        "  y = int(input(\"Enter the number you wnat to be divisor:\\n\"))\n",
        "\n",
        "  ans = x // y\n",
        "  rem = x % y\n",
        "\n",
        "  print(f\"The quotient for this division is {ans} and the reminder would be {rem}\")\n",
        "\n",
        "if __name__ == '__main__':\n",
        "  main()"
      ],
      "metadata": {
        "id": "5pzImHI_1f3s",
        "outputId": "0d6b5cec-3ce9-46fa-cea9-3c6e75f6e149",
        "colab": {
          "base_uri": "https://localhost:8080/"
        }
      },
      "execution_count": 3,
      "outputs": [
        {
          "output_type": "stream",
          "name": "stdout",
          "text": [
            "Enter the number you want to be divided: \n",
            "578\n",
            "Enter the number you wnat to be divisor:\n",
            "98\n",
            "The quotient for this division is 5 and the reminder would be 88\n"
          ]
        }
      ]
    },
    {
      "cell_type": "code",
      "source": [
        "import random\n",
        "\n",
        "sides : int = 6\n",
        "\n",
        "def main():\n",
        "    die1: int = random.randint(1, sides)\n",
        "    die2: int = random.randint(1, sides)\n",
        "    total: int = die1 + die2\n",
        "\n",
        "    print(\"Dice have\", sides , \"sides each.\")\n",
        "    print(\"First die:\", die1)\n",
        "    print(\"Second die:\", die2)\n",
        "    print(\"Total of two dice:\", total)\n",
        "\n",
        "if __name__ == '__main__':\n",
        "    main()\n"
      ],
      "metadata": {
        "id": "IYLuju98RKUK",
        "outputId": "c0eb4b30-1978-4d48-ca25-fcb709a5f6bf",
        "colab": {
          "base_uri": "https://localhost:8080/"
        }
      },
      "execution_count": 4,
      "outputs": [
        {
          "output_type": "stream",
          "name": "stdout",
          "text": [
            "Dice have 6 sides each.\n",
            "First die: 2\n",
            "Second die: 3\n",
            "Total of two dice: 5\n"
          ]
        }
      ]
    },
    {
      "cell_type": "code",
      "source": [
        "def main():\n",
        "  DAYS_PER_YEAR = 365\n",
        "  HOURS_PER_DAY = 24\n",
        "  MINUTES_PER_HOUR = 60\n",
        "  SECONDS_PER_MINUTE = 60\n",
        "\n",
        "  seconds_in_year = DAYS_PER_YEAR * HOURS_PER_DAY * MINUTES_PER_HOUR * SECONDS_PER_MINUTE\n",
        "  print(f\"There are {seconds_in_year:,} seconds in a year!\")\n",
        "\n",
        "if __name__ == '__main__':\n",
        "    main()\n"
      ],
      "metadata": {
        "id": "LRJyIxEAS0hD",
        "outputId": "82a7351e-5f54-450b-c5e0-2e3aa9952f38",
        "colab": {
          "base_uri": "https://localhost:8080/"
        }
      },
      "execution_count": 5,
      "outputs": [
        {
          "output_type": "stream",
          "name": "stdout",
          "text": [
            "There are 31,536,000 seconds in a year!\n"
          ]
        }
      ]
    },
    {
      "cell_type": "code",
      "source": [
        "from IPython.display import display, Markdown\n",
        "\n",
        "# Constant sentence start\n",
        "SENTENCE_START = \"When I woke up today, my\"\n",
        "\n",
        "def main():\n",
        "    display(Markdown(\"**_*Please type an adjective.*_**\"))\n",
        "    adjective = input()\n",
        "\n",
        "    display(Markdown(\"**_*Please type a noun.*_**\"))\n",
        "    noun = input()\n",
        "\n",
        "    display(Markdown(\"**_*Please type a verb.*_**\"))\n",
        "    verb = input()\n",
        "\n",
        "    full_sentence = f\"{SENTENCE_START} {adjective} {noun} {verb}!\"\n",
        "    print(f\"\\n{full_sentence}\")\n",
        "\n",
        "if __name__ == '__main__':\n",
        "    main()"
      ],
      "metadata": {
        "id": "hgCFC3umUM2t",
        "outputId": "c275f20d-4eb6-4c06-98fe-742a3e549a7c",
        "colab": {
          "base_uri": "https://localhost:8080/",
          "height": 195
        }
      },
      "execution_count": 12,
      "outputs": [
        {
          "output_type": "display_data",
          "data": {
            "text/plain": [
              "<IPython.core.display.Markdown object>"
            ],
            "text/markdown": "**_*Please type an adjective.*_**"
          },
          "metadata": {}
        },
        {
          "name": "stdout",
          "output_type": "stream",
          "text": [
            "kind\n"
          ]
        },
        {
          "output_type": "display_data",
          "data": {
            "text/plain": [
              "<IPython.core.display.Markdown object>"
            ],
            "text/markdown": "**_*Please type a noun.*_**"
          },
          "metadata": {}
        },
        {
          "name": "stdout",
          "output_type": "stream",
          "text": [
            "old man\n"
          ]
        },
        {
          "output_type": "display_data",
          "data": {
            "text/plain": [
              "<IPython.core.display.Markdown object>"
            ],
            "text/markdown": "**_*Please type a verb.*_**"
          },
          "metadata": {}
        },
        {
          "output_type": "stream",
          "name": "stdout",
          "text": [
            "giving away charity\n",
            "\n",
            "When I woke up today, my kind old man giving away charity!\n"
          ]
        }
      ]
    }
  ]
}