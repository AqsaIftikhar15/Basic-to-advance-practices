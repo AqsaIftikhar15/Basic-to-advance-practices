{
  "nbformat": 4,
  "nbformat_minor": 0,
  "metadata": {
    "colab": {
      "provenance": []
    },
    "kernelspec": {
      "name": "python3",
      "display_name": "Python 3"
    },
    "language_info": {
      "name": "python"
    }
  },
  "cells": [
    {
      "cell_type": "code",
      "execution_count": 7,
      "metadata": {
        "colab": {
          "base_uri": "https://localhost:8080/"
        },
        "id": "fTTWMnTIS6vE",
        "outputId": "b042666d-0e68-4b0f-e327-a9972fb8f88b"
      },
      "outputs": [
        {
          "output_type": "stream",
          "name": "stdout",
          "text": [
            "Enter the first number:6\n",
            "Enter the second number7\n",
            "The sum of 6 and 7 is 13.\n"
          ]
        }
      ],
      "source": [
        "def add():\n",
        "  try:\n",
        "    let: str = input(\"Enter the first number:\")\n",
        "    let = int(let)\n",
        "    let2: str = input(\"Enter the second number\")\n",
        "    let2 = int(let2)\n",
        "\n",
        "    sum :int = (let + let2)\n",
        "    print(f\"The sum of {let} and {let2} is {sum}.\")\n",
        "  except:\n",
        "    print(\"Please enter a valid number.\")\n",
        "if __name__ == \"__main__\":\n",
        "  add()"
      ]
    },
    {
      "cell_type": "code",
      "source": [
        "def animal():\n",
        "  x = input(\"Hey there! What's your favorite animal?\\n\")\n",
        "  print(f\"Whoaza! Mine favorite animal is also {x} \")\n",
        "\n",
        "if __name__ ==\"__main__\":\n",
        "  animal()"
      ],
      "metadata": {
        "colab": {
          "base_uri": "https://localhost:8080/"
        },
        "id": "Z2F_ii4rbEF_",
        "outputId": "4189945b-c79f-4972-ff99-533a312c2484"
      },
      "execution_count": 4,
      "outputs": [
        {
          "output_type": "stream",
          "name": "stdout",
          "text": [
            "Hey there! What's your favorite animal?\n",
            "67\n",
            "Whoaza! Mine favorite animal is also 67 \n"
          ]
        }
      ]
    },
    {
      "cell_type": "code",
      "source": [
        "from IPython.display import display,Markdown\n",
        "\n",
        "def temp():\n",
        "  x = float(input(\"Enter the temprature in fahrenhiet: \\n\"))\n",
        "  display(Markdown(f\"You entered: **_*{x}°F*_**\"))\n",
        "  y = (x - 32) * 5.0/9.0\n",
        "\n",
        "  print(f\"The {x}°F in celsius is {y:.2f}°C.\")\n",
        "\n",
        "if __name__ == \"__main__\":\n",
        "  temp()\n"
      ],
      "metadata": {
        "colab": {
          "base_uri": "https://localhost:8080/",
          "height": 100
        },
        "id": "0vGXGyD7c6Cg",
        "outputId": "ada9d23d-1727-46ab-9ddb-4adc6a7344a5"
      },
      "execution_count": 14,
      "outputs": [
        {
          "name": "stdout",
          "output_type": "stream",
          "text": [
            "Enter the temprature in fahrenhiet: \n",
            "300\n"
          ]
        },
        {
          "output_type": "display_data",
          "data": {
            "text/plain": [
              "<IPython.core.display.Markdown object>"
            ],
            "text/markdown": "You entered **_*300.0°F*_**"
          },
          "metadata": {}
        },
        {
          "output_type": "stream",
          "name": "stdout",
          "text": [
            "The 300.0°F in celsius is 148.89°C.\n"
          ]
        }
      ]
    },
    {
      "cell_type": "code",
      "source": [
        "def age():\n",
        "  anton :int = 21\n",
        "  beth : int= anton + 6\n",
        "  chen : int= beth + 20\n",
        "  drew : int = chen + anton\n",
        "  ethan : int = chen\n",
        "\n",
        "  print(f\"Anton is {anton} years old.\")\n",
        "  print(f\"Beth is {beth} years old.\")\n",
        "  print(f\"Chen is {chen} years old.\")\n",
        "  print(f\"Drew is {drew} years old.\")\n",
        "  print(f\"Ethan is {ethan} years old.\")\n",
        "\n",
        "if __name__ == \"__main__\":\n",
        "  age()"
      ],
      "metadata": {
        "id": "BZPbK-5AiMPw",
        "outputId": "912f4f1a-0cdd-4e30-918f-cc7ad23b8bff",
        "colab": {
          "base_uri": "https://localhost:8080/"
        }
      },
      "execution_count": 15,
      "outputs": [
        {
          "output_type": "stream",
          "name": "stdout",
          "text": [
            "Anton is 21 years old.\n",
            "Beth is 27 years old.\n",
            "Chen is 47 years old.\n",
            "Drew is 68 years old.\n",
            "Ethan is 47 years old.\n"
          ]
        }
      ]
    },
    {
      "cell_type": "code",
      "source": [
        "from IPython.display import display,Markdown\n",
        "\n",
        "def tri():\n",
        "    length1: float = float(input(\"What is the length of side 1? \"))\n",
        "    length2: float = float(input(\"What is the length of side 2? \"))\n",
        "    length3: float = float(input(\"What is the length of side 3? \"))\n",
        "    perimeter: str = str(length1 + length2 + length3)\n",
        "    display(Markdown(f\"The perimeter of the triangle with: <br> side 1 = **_*{length1}*_** <br> side 2 = **_*{length2}*_** <br> side 3 = **_*{length3}*_** <br> is equals to:<br> **_*{perimeter}*_**\"))\n",
        "\n",
        "if __name__ == '__main__':\n",
        "    tri()"
      ],
      "metadata": {
        "id": "OUiUr9R1nuSm",
        "outputId": "876a5f08-4a51-4438-ba0c-b7d8d3fcff1a",
        "colab": {
          "base_uri": "https://localhost:8080/",
          "height": 187
        }
      },
      "execution_count": 21,
      "outputs": [
        {
          "name": "stdout",
          "output_type": "stream",
          "text": [
            "What is the length of side 1? 54\n",
            "What is the length of side 2? 32\n",
            "What is the length of side 3? 98\n"
          ]
        },
        {
          "output_type": "display_data",
          "data": {
            "text/plain": [
              "<IPython.core.display.Markdown object>"
            ],
            "text/markdown": "The perimeter of the triangle with: <br> side 1 = **_*54.0*_** <br> side 2 = **_*32.0*_** <br> side 3 = **_*98.0*_** <br> is equals to:<br> **_*184.0*_**"
          },
          "metadata": {}
        }
      ]
    },
    {
      "cell_type": "code",
      "source": [
        "from IPython.display import display,Markdown\n",
        "\n",
        "def square():\n",
        "  num: float = float(input(\"Type a number to see its square: \"))\n",
        "  display(Markdown(f\"You entered: **_*{num}*_**\"))\n",
        "  print(f\"The square of {num} is: \\n\" + str(num ** 2))\n",
        "\n",
        "\n",
        "if __name__ == '__main__':\n",
        "    square()"
      ],
      "metadata": {
        "id": "grmiZYxUpBZd",
        "outputId": "e0e67be0-35bb-4d78-feb6-9ef0235eac45",
        "colab": {
          "base_uri": "https://localhost:8080/",
          "height": 100
        }
      },
      "execution_count": 23,
      "outputs": [
        {
          "name": "stdout",
          "output_type": "stream",
          "text": [
            "Type a number to see its square: 3\n"
          ]
        },
        {
          "output_type": "display_data",
          "data": {
            "text/plain": [
              "<IPython.core.display.Markdown object>"
            ],
            "text/markdown": "You entered: **_*3.0*_**"
          },
          "metadata": {}
        },
        {
          "output_type": "stream",
          "name": "stdout",
          "text": [
            "The square of 3.0 is: \n",
            "9.0\n"
          ]
        }
      ]
    }
  ]
}